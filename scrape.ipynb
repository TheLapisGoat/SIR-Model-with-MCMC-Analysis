{
 "cells": [
  {
   "cell_type": "code",
   "execution_count": 207,
   "metadata": {},
   "outputs": [],
   "source": [
    "from bs4 import BeautifulSoup\n",
    "import js2xml\n",
    "import pandas as pd"
   ]
  },
  {
   "cell_type": "code",
   "execution_count": 208,
   "metadata": {},
   "outputs": [],
   "source": [
    "with open('index.html', 'r') as htmlFile:\n",
    "    content = htmlFile.read()"
   ]
  },
  {
   "cell_type": "code",
   "execution_count": 209,
   "metadata": {},
   "outputs": [],
   "source": [
    "soup = BeautifulSoup(content, \"html.parser\")"
   ]
  },
  {
   "cell_type": "code",
   "execution_count": 210,
   "metadata": {},
   "outputs": [],
   "source": [
    "all_scripts = soup.find_all('script')"
   ]
  },
  {
   "cell_type": "code",
   "execution_count": 211,
   "metadata": {},
   "outputs": [],
   "source": [
    "cases_data = pd.DataFrame()"
   ]
  },
  {
   "cell_type": "code",
   "execution_count": 212,
   "metadata": {},
   "outputs": [],
   "source": [
    "script = all_scripts[22].text"
   ]
  },
  {
   "cell_type": "code",
   "execution_count": 213,
   "metadata": {},
   "outputs": [],
   "source": [
    "data = js2xml.parse(script)\n",
    "values = data.xpath('//arguments[string[contains(text(), \"coronavirus-cases-linear\")]]//property[@name=\"data\"]//number/@value')\n",
    "dates = data.xpath('//arguments[string[contains(text(), \"coronavirus-cases-linear\")]]//property[@name=\"categories\"]//string/text()')\n",
    "title = data.xpath('//property[@name=\"title\"]//string/text()')\n",
    "title = title[0]"
   ]
  },
  {
   "cell_type": "code",
   "execution_count": 214,
   "metadata": {},
   "outputs": [],
   "source": [
    "cases_data[\"Dates\"] = dates\n",
    "cases_data[title] = values"
   ]
  },
  {
   "cell_type": "code",
   "execution_count": 215,
   "metadata": {},
   "outputs": [],
   "source": [
    "script = all_scripts[23].text"
   ]
  },
  {
   "cell_type": "code",
   "execution_count": 216,
   "metadata": {},
   "outputs": [],
   "source": [
    "data = js2xml.parse(script)\n",
    "values = data.xpath('//object[property[string[contains(text(), \"Daily Cases\")]]]//property[@name=\"data\"]//number/@value')\n",
    "title = data.xpath('//property[@name=\"title\"]//string/text()')\n",
    "title = title[0]"
   ]
  },
  {
   "cell_type": "code",
   "execution_count": 217,
   "metadata": {},
   "outputs": [],
   "source": [
    "values.insert(0, 0)"
   ]
  },
  {
   "cell_type": "code",
   "execution_count": 218,
   "metadata": {},
   "outputs": [],
   "source": [
    "cases_data[title] = values"
   ]
  },
  {
   "cell_type": "code",
   "execution_count": 219,
   "metadata": {},
   "outputs": [],
   "source": [
    "script = all_scripts[24].text"
   ]
  },
  {
   "cell_type": "code",
   "execution_count": 220,
   "metadata": {},
   "outputs": [],
   "source": [
    "data = js2xml.parse(script)\n",
    "values = data.xpath('//property[@name=\"data\"]//number/@value')\n",
    "title = data.xpath('//property[@name=\"title\"]//string/text()')\n",
    "title = title[0]"
   ]
  },
  {
   "cell_type": "code",
   "execution_count": 221,
   "metadata": {},
   "outputs": [],
   "source": [
    "cases_data[title] = values"
   ]
  },
  {
   "cell_type": "code",
   "execution_count": 222,
   "metadata": {},
   "outputs": [],
   "source": [
    "script = all_scripts[25].text"
   ]
  },
  {
   "cell_type": "code",
   "execution_count": 223,
   "metadata": {},
   "outputs": [],
   "source": [
    "data = js2xml.parse(script)\n",
    "values = data.xpath('//arguments[string[contains(text(), \"coronavirus-deaths-linear\")]]//property[@name=\"data\"]//number/@value')\n",
    "title = data.xpath('//property[@name=\"title\"]//string/text()')\n",
    "title = title[0]"
   ]
  },
  {
   "cell_type": "code",
   "execution_count": 224,
   "metadata": {},
   "outputs": [],
   "source": [
    "cases_data[title] = values"
   ]
  },
  {
   "cell_type": "code",
   "execution_count": 225,
   "metadata": {},
   "outputs": [],
   "source": [
    "script = all_scripts[26].text"
   ]
  },
  {
   "cell_type": "code",
   "execution_count": 226,
   "metadata": {},
   "outputs": [],
   "source": [
    "data = js2xml.parse(script)\n",
    "values = data.xpath('//object[property[string[contains(text(), \"Daily Deaths\")]]]//property[@name=\"data\"]//number/@value')\n",
    "title = data.xpath('//property[@name=\"title\"]//string/text()')\n",
    "title = title[0]"
   ]
  },
  {
   "cell_type": "code",
   "execution_count": 227,
   "metadata": {},
   "outputs": [],
   "source": [
    "values = [0, 0, 0, 0, 0] + values"
   ]
  },
  {
   "cell_type": "code",
   "execution_count": 228,
   "metadata": {},
   "outputs": [],
   "source": [
    "cases_data[title] = values"
   ]
  },
  {
   "cell_type": "code",
   "execution_count": 229,
   "metadata": {},
   "outputs": [],
   "source": [
    "script = all_scripts[27].text"
   ]
  },
  {
   "cell_type": "code",
   "execution_count": 230,
   "metadata": {},
   "outputs": [],
   "source": [
    "data = js2xml.parse(script)\n",
    "values = data.xpath('//object[property[string[contains(text(), \"New Recoveries\")]]]//property[@name=\"data\"]//number/@value')\n",
    "title = data.xpath('//property[@name=\"title\"]//string/text()')\n",
    "title = title[0]"
   ]
  },
  {
   "cell_type": "code",
   "execution_count": 231,
   "metadata": {},
   "outputs": [],
   "source": [
    "values.insert(0, 0)"
   ]
  },
  {
   "cell_type": "code",
   "execution_count": 232,
   "metadata": {},
   "outputs": [],
   "source": [
    "cases_data[\"New Recoveries\"] = values"
   ]
  },
  {
   "cell_type": "code",
   "execution_count": 234,
   "metadata": {},
   "outputs": [],
   "source": [
    "cases_data.to_csv(\"CovidData.csv\", index = False)"
   ]
  }
 ],
 "metadata": {
  "kernelspec": {
   "display_name": "SIR",
   "language": "python",
   "name": "python3"
  },
  "language_info": {
   "codemirror_mode": {
    "name": "ipython",
    "version": 3
   },
   "file_extension": ".py",
   "mimetype": "text/x-python",
   "name": "python",
   "nbconvert_exporter": "python",
   "pygments_lexer": "ipython3",
   "version": "3.9.15"
  },
  "orig_nbformat": 4
 },
 "nbformat": 4,
 "nbformat_minor": 2
}
